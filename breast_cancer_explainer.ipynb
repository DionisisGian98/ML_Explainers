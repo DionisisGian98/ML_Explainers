{
 "cells": [
  {
   "cell_type": "code",
   "execution_count": null,
   "metadata": {},
   "outputs": [],
   "source": [
    "import numpy as np\n",
    "import pandas as pd\n",
    "import warnings\n",
    "import pandas as pd\n",
    "from time import  time\n",
    "from sklearn.preprocessing import StandardScaler\n",
    "from sklearn.ensemble import RandomForestClassifier\n",
    "from sklearn.model_selection import train_test_split\n",
    "from sklearn.pipeline import Pipeline\n",
    "from sklearn.model_selection import GridSearchCV\n",
    "from sklearn.metrics import accuracy_score, f1_score, precision_score, recall_score\n",
    "from sklearn.feature_selection import VarianceThreshold\n",
    "from sklearn.decomposition import PCA\n",
    "from imblearn.pipeline import Pipeline\n",
    "from sklearn.model_selection  import KFold\n",
    "from interpret import show\n",
    "from interpret.blackbox import LimeTabular\n",
    "import dalex as dx\n",
    "\n",
    "df = pd.read_csv('data.csv')\n",
    "# remove columns\n",
    "df = df.drop(['id','Unnamed: 32'], axis=1)\n",
    "\n",
    "#replace values\n",
    "df['diagnosis'] = df['diagnosis'].replace(['M'], 1)\n",
    "df['diagnosis'] = df['diagnosis'].replace(['B'], 0)\n",
    "\n",
    "# Random Forest\n",
    "X =  df.drop(['diagnosis'], axis=1)\n",
    "Y = df['diagnosis']\n",
    "\n",
    "\n",
    "\n",
    "X_train,X_test,y_train,y_test = train_test_split(X, Y, test_size=0.3, random_state=0)\n",
    "\n",
    "#simple random forrest \n",
    "print()\n",
    "print(\"Training the Random Forest Classifier\")\n",
    "start = time()\n",
    "random_forest = RandomForestClassifier(random_state=1)\n",
    "random_forest.fit(X_train, y_train)\n",
    "end = time()\n",
    "tr_time = round(end - start, 2)\n",
    "print(\"The training completed in : {} seconds.\".format(tr_time))\n",
    "\n",
    "y_predict = random_forest.predict(X_test)\n",
    "\n",
    "def metrics_eval_clas(y_test, y_pred,):\n",
    "    print('accuracy: {:.3f}'.format(accuracy_score(y_test, y_pred)*100,2))\n",
    "    print('f1-score: {:.3f}'.format(f1_score(y_test, y_pred, average='macro')*100,2))\n",
    "    print('precision: {:.3f}'.format(precision_score(y_test, y_pred, average='macro')*100,2))\n",
    "    print('recall: {:.3f}'.format(recall_score(y_test, y_pred, average='macro')*100,2))\n",
    "    \n",
    "y_predict = random_forest.predict(X_test)\n",
    "metrics_eval_clas(y_test, y_predict)\n",
    "\n",
    "#Finding the best Hyperparameter of Random Forest\n",
    "#Ορίζω το Pipe του RandomForest \n",
    "scaler = StandardScaler()\n",
    "selector = VarianceThreshold()\n",
    "pca = PCA()\n",
    "pipeline = Pipeline(steps=[('scaler', scaler),('selector', selector), ('pca', pca), (\"clf\",RandomForestClassifier())])\n",
    "\n",
    "\n",
    "param_grid = {'clf__n_estimators': [500,200,100],\n",
    "               'clf__max_features': ['sqrt'],\n",
    "               'clf__max_depth': [40,60,90],\n",
    "               'clf__min_samples_split': [3,5],\n",
    "               'clf__min_samples_leaf': [1,3],\n",
    "               'clf__bootstrap': [True,False]}\n",
    "\n",
    "# initialize\n",
    "grid_pipeline = GridSearchCV(pipeline,param_grid=param_grid, cv=3, n_jobs=-1,verbose=1)\n",
    "# fit\n",
    "grid_pipeline.fit(X_train,y_train)\n",
    "\n",
    "\n",
    "best_model = grid_pipeline.best_estimator_['clf'].fit(X_train,y_train)\n",
    "print('score of the model =', round(grid_pipeline.best_score_*100,2),'%')\n",
    "#predictions\n",
    "y_predict = best_model.predict(X_test)\n",
    "\n"
   ]
  },
  {
   "cell_type": "code",
   "execution_count": null,
   "metadata": {},
   "outputs": [],
   "source": [
    "#Breakdown Plot explainer\n",
    "explainer = dx.Explainer(best_model,X,Y) # create explainer from Dalex\n",
    "# Generate breakdown plot\n",
    "explainer.predict_parts(X.iloc[2], type = \"break_down\").plot(max_vars=15)"
   ]
  },
  {
   "cell_type": "code",
   "execution_count": null,
   "metadata": {},
   "outputs": [],
   "source": [
    "#Lime Explainer\n",
    "lime = LimeTabular(predict_fn=best_model.predict, data=X_train)\n",
    "lime_local = lime.explain_local(X_test[:5], y_test[:5])\n",
    "show(lime_local)"
   ]
  }
 ],
 "metadata": {
  "kernelspec": {
   "display_name": "Python 3.10.6 64-bit (microsoft store)",
   "language": "python",
   "name": "python3"
  },
  "language_info": {
   "name": "python",
   "version": "3.10.6"
  },
  "orig_nbformat": 4,
  "vscode": {
   "interpreter": {
    "hash": "6358df0617eceb7fc6eb945c762e6f2fdeff3eb28de3785938a99394d5b7bfd9"
   }
  }
 },
 "nbformat": 4,
 "nbformat_minor": 2
}
